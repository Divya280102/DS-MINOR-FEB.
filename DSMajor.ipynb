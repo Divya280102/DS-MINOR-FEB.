{
  "nbformat": 4,
  "nbformat_minor": 0,
  "metadata": {
    "colab": {
      "name": "DSMajor.ipynb",
      "provenance": [],
      "collapsed_sections": [],
      "include_colab_link": true
    },
    "kernelspec": {
      "name": "python3",
      "display_name": "Python 3"
    },
    "language_info": {
      "name": "python"
    }
  },
  "cells": [
    {
      "cell_type": "markdown",
      "metadata": {
        "id": "view-in-github",
        "colab_type": "text"
      },
      "source": [
        "<a href=\"https://colab.research.google.com/github/nastynoice/DS-MINOR-FEB./blob/main/DSMajor.ipynb\" target=\"_parent\"><img src=\"https://colab.research.google.com/assets/colab-badge.svg\" alt=\"Open In Colab\"/></a>"
      ]
    },
    {
      "cell_type": "code",
      "metadata": {
        "colab": {
          "base_uri": "https://localhost:8080/"
        },
        "id": "oh1YBRNhmdTr",
        "outputId": "0989b851-8c0a-4ecf-a1a2-89597fa0ec7a"
      },
      "source": [
        "import pandas as pd\n",
        "df = pd.read_csv('/content/drive/MyDrive/covid-data DS.csv')\n",
        "df.head"
      ],
      "execution_count": null,
      "outputs": [
        {
          "output_type": "execute_result",
          "data": {
            "text/plain": [
              "<bound method NDFrame.head of       iso_code continent  ... life_expectancy human_development_index\n",
              "0          AFG      Asia  ...           64.83                   0.511\n",
              "1          AFG      Asia  ...           64.83                   0.511\n",
              "2          AFG      Asia  ...           64.83                   0.511\n",
              "3          AFG      Asia  ...           64.83                   0.511\n",
              "4          AFG      Asia  ...           64.83                   0.511\n",
              "...        ...       ...  ...             ...                     ...\n",
              "80285      ZWE    Africa  ...           61.49                   0.571\n",
              "80286      ZWE    Africa  ...           61.49                   0.571\n",
              "80287      ZWE    Africa  ...           61.49                   0.571\n",
              "80288      ZWE    Africa  ...           61.49                   0.571\n",
              "80289      ZWE    Africa  ...           61.49                   0.571\n",
              "\n",
              "[80290 rows x 43 columns]>"
            ]
          },
          "metadata": {
            "tags": []
          },
          "execution_count": 7
        }
      ]
    },
    {
      "cell_type": "code",
      "metadata": {
        "id": "Pk0sZyxrtjJD"
      },
      "source": [
        "# The column which will not be needed during our analysis are dropped. \n",
        "\n",
        "to_drop = ['new_cases_smoothed',\n",
        "            'new_deaths_smoothed',\n",
        "            'new_cases_smoothed_per_million',\n",
        "            'new_deaths_per_million',\n",
        "            'new_deaths_smoothed_per_million',\n",
        "            'total_tests_per_thousand',\n",
        "            'new_tests_per_thousand',\n",
        "            'new_tests_smoothed',\n",
        "            'new_tests_smoothed_per_thousand',\n",
        "            'median_age',\n",
        "            'extreme_poverty']\n",
        "            \n",
        "\n",
        "df.drop(to_drop, inplace=True, axis = 1)\n"
      ],
      "execution_count": null,
      "outputs": []
    },
    {
      "cell_type": "code",
      "metadata": {
        "colab": {
          "base_uri": "https://localhost:8080/"
        },
        "id": "sDKH6CO41P0d",
        "outputId": "42481532-e8c4-4122-ac66-8ed65124e04b"
      },
      "source": [
        "df.head   # By dropping data, the number of columns has reduced from 43 to 32."
      ],
      "execution_count": null,
      "outputs": [
        {
          "output_type": "execute_result",
          "data": {
            "text/plain": [
              "<bound method NDFrame.head of       iso_code continent  ... life_expectancy human_development_index\n",
              "0          AFG      Asia  ...           64.83                   0.511\n",
              "1          AFG      Asia  ...           64.83                   0.511\n",
              "2          AFG      Asia  ...           64.83                   0.511\n",
              "3          AFG      Asia  ...           64.83                   0.511\n",
              "4          AFG      Asia  ...           64.83                   0.511\n",
              "...        ...       ...  ...             ...                     ...\n",
              "80285      ZWE    Africa  ...           61.49                   0.571\n",
              "80286      ZWE    Africa  ...           61.49                   0.571\n",
              "80287      ZWE    Africa  ...           61.49                   0.571\n",
              "80288      ZWE    Africa  ...           61.49                   0.571\n",
              "80289      ZWE    Africa  ...           61.49                   0.571\n",
              "\n",
              "[80290 rows x 32 columns]>"
            ]
          },
          "metadata": {
            "tags": []
          },
          "execution_count": 9
        }
      ]
    },
    {
      "cell_type": "code",
      "metadata": {
        "colab": {
          "base_uri": "https://localhost:8080/",
          "height": 776
        },
        "id": "oh-MojjY2FOl",
        "outputId": "85be98ec-1f88-410e-ab10-87fd187fcfa2"
      },
      "source": [
        "df.fillna(0)\n",
        "\n"
      ],
      "execution_count": null,
      "outputs": [
        {
          "output_type": "execute_result",
          "data": {
            "text/html": [
              "<div>\n",
              "<style scoped>\n",
              "    .dataframe tbody tr th:only-of-type {\n",
              "        vertical-align: middle;\n",
              "    }\n",
              "\n",
              "    .dataframe tbody tr th {\n",
              "        vertical-align: top;\n",
              "    }\n",
              "\n",
              "    .dataframe thead th {\n",
              "        text-align: right;\n",
              "    }\n",
              "</style>\n",
              "<table border=\"1\" class=\"dataframe\">\n",
              "  <thead>\n",
              "    <tr style=\"text-align: right;\">\n",
              "      <th></th>\n",
              "      <th>iso_code</th>\n",
              "      <th>continent</th>\n",
              "      <th>location</th>\n",
              "      <th>date</th>\n",
              "      <th>total_cases</th>\n",
              "      <th>new_cases</th>\n",
              "      <th>total_deaths</th>\n",
              "      <th>new_deaths</th>\n",
              "      <th>total_cases_per_million</th>\n",
              "      <th>new_cases_per_million</th>\n",
              "      <th>total_deaths_per_million</th>\n",
              "      <th>reproduction_rate</th>\n",
              "      <th>Unnamed: 17</th>\n",
              "      <th>new_tests</th>\n",
              "      <th>total_tests</th>\n",
              "      <th>positive_rate</th>\n",
              "      <th>tests_per_case</th>\n",
              "      <th>tests_units</th>\n",
              "      <th>stringency_index</th>\n",
              "      <th>population</th>\n",
              "      <th>population_density</th>\n",
              "      <th>aged_65_older</th>\n",
              "      <th>aged_70_older</th>\n",
              "      <th>gdp_per_capita</th>\n",
              "      <th>cardiovasc_death_rate</th>\n",
              "      <th>diabetes_prevalence</th>\n",
              "      <th>female_smokers</th>\n",
              "      <th>male_smokers</th>\n",
              "      <th>handwashing_facilities</th>\n",
              "      <th>hospital_beds_per_thousand</th>\n",
              "      <th>life_expectancy</th>\n",
              "      <th>human_development_index</th>\n",
              "    </tr>\n",
              "  </thead>\n",
              "  <tbody>\n",
              "    <tr>\n",
              "      <th>0</th>\n",
              "      <td>AFG</td>\n",
              "      <td>Asia</td>\n",
              "      <td>Afghanistan</td>\n",
              "      <td>24-02-2020</td>\n",
              "      <td>1.0</td>\n",
              "      <td>1.0</td>\n",
              "      <td>0.0</td>\n",
              "      <td>0.0</td>\n",
              "      <td>0.026</td>\n",
              "      <td>0.026</td>\n",
              "      <td>0.000</td>\n",
              "      <td>0.00</td>\n",
              "      <td>0.0</td>\n",
              "      <td>0.0</td>\n",
              "      <td>0.0</td>\n",
              "      <td>0.000</td>\n",
              "      <td>0.0</td>\n",
              "      <td>0</td>\n",
              "      <td>8.33</td>\n",
              "      <td>38928341.0</td>\n",
              "      <td>54.422</td>\n",
              "      <td>2.581</td>\n",
              "      <td>1.337</td>\n",
              "      <td>1803.987</td>\n",
              "      <td>597.029</td>\n",
              "      <td>9.59</td>\n",
              "      <td>0.0</td>\n",
              "      <td>0.0</td>\n",
              "      <td>37.746</td>\n",
              "      <td>0.5</td>\n",
              "      <td>64.83</td>\n",
              "      <td>0.511</td>\n",
              "    </tr>\n",
              "    <tr>\n",
              "      <th>1</th>\n",
              "      <td>AFG</td>\n",
              "      <td>Asia</td>\n",
              "      <td>Afghanistan</td>\n",
              "      <td>25-02-2020</td>\n",
              "      <td>1.0</td>\n",
              "      <td>0.0</td>\n",
              "      <td>0.0</td>\n",
              "      <td>0.0</td>\n",
              "      <td>0.026</td>\n",
              "      <td>0.000</td>\n",
              "      <td>0.000</td>\n",
              "      <td>0.00</td>\n",
              "      <td>0.0</td>\n",
              "      <td>0.0</td>\n",
              "      <td>0.0</td>\n",
              "      <td>0.000</td>\n",
              "      <td>0.0</td>\n",
              "      <td>0</td>\n",
              "      <td>8.33</td>\n",
              "      <td>38928341.0</td>\n",
              "      <td>54.422</td>\n",
              "      <td>2.581</td>\n",
              "      <td>1.337</td>\n",
              "      <td>1803.987</td>\n",
              "      <td>597.029</td>\n",
              "      <td>9.59</td>\n",
              "      <td>0.0</td>\n",
              "      <td>0.0</td>\n",
              "      <td>37.746</td>\n",
              "      <td>0.5</td>\n",
              "      <td>64.83</td>\n",
              "      <td>0.511</td>\n",
              "    </tr>\n",
              "    <tr>\n",
              "      <th>2</th>\n",
              "      <td>AFG</td>\n",
              "      <td>Asia</td>\n",
              "      <td>Afghanistan</td>\n",
              "      <td>26-02-2020</td>\n",
              "      <td>1.0</td>\n",
              "      <td>0.0</td>\n",
              "      <td>0.0</td>\n",
              "      <td>0.0</td>\n",
              "      <td>0.026</td>\n",
              "      <td>0.000</td>\n",
              "      <td>0.000</td>\n",
              "      <td>0.00</td>\n",
              "      <td>0.0</td>\n",
              "      <td>0.0</td>\n",
              "      <td>0.0</td>\n",
              "      <td>0.000</td>\n",
              "      <td>0.0</td>\n",
              "      <td>0</td>\n",
              "      <td>8.33</td>\n",
              "      <td>38928341.0</td>\n",
              "      <td>54.422</td>\n",
              "      <td>2.581</td>\n",
              "      <td>1.337</td>\n",
              "      <td>1803.987</td>\n",
              "      <td>597.029</td>\n",
              "      <td>9.59</td>\n",
              "      <td>0.0</td>\n",
              "      <td>0.0</td>\n",
              "      <td>37.746</td>\n",
              "      <td>0.5</td>\n",
              "      <td>64.83</td>\n",
              "      <td>0.511</td>\n",
              "    </tr>\n",
              "    <tr>\n",
              "      <th>3</th>\n",
              "      <td>AFG</td>\n",
              "      <td>Asia</td>\n",
              "      <td>Afghanistan</td>\n",
              "      <td>27-02-2020</td>\n",
              "      <td>1.0</td>\n",
              "      <td>0.0</td>\n",
              "      <td>0.0</td>\n",
              "      <td>0.0</td>\n",
              "      <td>0.026</td>\n",
              "      <td>0.000</td>\n",
              "      <td>0.000</td>\n",
              "      <td>0.00</td>\n",
              "      <td>0.0</td>\n",
              "      <td>0.0</td>\n",
              "      <td>0.0</td>\n",
              "      <td>0.000</td>\n",
              "      <td>0.0</td>\n",
              "      <td>0</td>\n",
              "      <td>8.33</td>\n",
              "      <td>38928341.0</td>\n",
              "      <td>54.422</td>\n",
              "      <td>2.581</td>\n",
              "      <td>1.337</td>\n",
              "      <td>1803.987</td>\n",
              "      <td>597.029</td>\n",
              "      <td>9.59</td>\n",
              "      <td>0.0</td>\n",
              "      <td>0.0</td>\n",
              "      <td>37.746</td>\n",
              "      <td>0.5</td>\n",
              "      <td>64.83</td>\n",
              "      <td>0.511</td>\n",
              "    </tr>\n",
              "    <tr>\n",
              "      <th>4</th>\n",
              "      <td>AFG</td>\n",
              "      <td>Asia</td>\n",
              "      <td>Afghanistan</td>\n",
              "      <td>28-02-2020</td>\n",
              "      <td>1.0</td>\n",
              "      <td>0.0</td>\n",
              "      <td>0.0</td>\n",
              "      <td>0.0</td>\n",
              "      <td>0.026</td>\n",
              "      <td>0.000</td>\n",
              "      <td>0.000</td>\n",
              "      <td>0.00</td>\n",
              "      <td>0.0</td>\n",
              "      <td>0.0</td>\n",
              "      <td>0.0</td>\n",
              "      <td>0.000</td>\n",
              "      <td>0.0</td>\n",
              "      <td>0</td>\n",
              "      <td>8.33</td>\n",
              "      <td>38928341.0</td>\n",
              "      <td>54.422</td>\n",
              "      <td>2.581</td>\n",
              "      <td>1.337</td>\n",
              "      <td>1803.987</td>\n",
              "      <td>597.029</td>\n",
              "      <td>9.59</td>\n",
              "      <td>0.0</td>\n",
              "      <td>0.0</td>\n",
              "      <td>37.746</td>\n",
              "      <td>0.5</td>\n",
              "      <td>64.83</td>\n",
              "      <td>0.511</td>\n",
              "    </tr>\n",
              "    <tr>\n",
              "      <th>...</th>\n",
              "      <td>...</td>\n",
              "      <td>...</td>\n",
              "      <td>...</td>\n",
              "      <td>...</td>\n",
              "      <td>...</td>\n",
              "      <td>...</td>\n",
              "      <td>...</td>\n",
              "      <td>...</td>\n",
              "      <td>...</td>\n",
              "      <td>...</td>\n",
              "      <td>...</td>\n",
              "      <td>...</td>\n",
              "      <td>...</td>\n",
              "      <td>...</td>\n",
              "      <td>...</td>\n",
              "      <td>...</td>\n",
              "      <td>...</td>\n",
              "      <td>...</td>\n",
              "      <td>...</td>\n",
              "      <td>...</td>\n",
              "      <td>...</td>\n",
              "      <td>...</td>\n",
              "      <td>...</td>\n",
              "      <td>...</td>\n",
              "      <td>...</td>\n",
              "      <td>...</td>\n",
              "      <td>...</td>\n",
              "      <td>...</td>\n",
              "      <td>...</td>\n",
              "      <td>...</td>\n",
              "      <td>...</td>\n",
              "      <td>...</td>\n",
              "    </tr>\n",
              "    <tr>\n",
              "      <th>80285</th>\n",
              "      <td>ZWE</td>\n",
              "      <td>Africa</td>\n",
              "      <td>Zimbabwe</td>\n",
              "      <td>06-04-2021</td>\n",
              "      <td>36966.0</td>\n",
              "      <td>32.0</td>\n",
              "      <td>1531.0</td>\n",
              "      <td>6.0</td>\n",
              "      <td>2487.128</td>\n",
              "      <td>2.153</td>\n",
              "      <td>103.008</td>\n",
              "      <td>1.06</td>\n",
              "      <td>0.0</td>\n",
              "      <td>1604.0</td>\n",
              "      <td>445963.0</td>\n",
              "      <td>0.013</td>\n",
              "      <td>79.6</td>\n",
              "      <td>tests performed</td>\n",
              "      <td>0.00</td>\n",
              "      <td>14862927.0</td>\n",
              "      <td>42.729</td>\n",
              "      <td>2.822</td>\n",
              "      <td>1.882</td>\n",
              "      <td>1899.775</td>\n",
              "      <td>307.846</td>\n",
              "      <td>1.82</td>\n",
              "      <td>1.6</td>\n",
              "      <td>30.7</td>\n",
              "      <td>36.791</td>\n",
              "      <td>1.7</td>\n",
              "      <td>61.49</td>\n",
              "      <td>0.571</td>\n",
              "    </tr>\n",
              "    <tr>\n",
              "      <th>80286</th>\n",
              "      <td>ZWE</td>\n",
              "      <td>Africa</td>\n",
              "      <td>Zimbabwe</td>\n",
              "      <td>07-04-2021</td>\n",
              "      <td>36984.0</td>\n",
              "      <td>18.0</td>\n",
              "      <td>1531.0</td>\n",
              "      <td>0.0</td>\n",
              "      <td>2488.339</td>\n",
              "      <td>1.211</td>\n",
              "      <td>103.008</td>\n",
              "      <td>1.08</td>\n",
              "      <td>0.0</td>\n",
              "      <td>3301.0</td>\n",
              "      <td>449264.0</td>\n",
              "      <td>0.009</td>\n",
              "      <td>117.4</td>\n",
              "      <td>tests performed</td>\n",
              "      <td>0.00</td>\n",
              "      <td>14862927.0</td>\n",
              "      <td>42.729</td>\n",
              "      <td>2.822</td>\n",
              "      <td>1.882</td>\n",
              "      <td>1899.775</td>\n",
              "      <td>307.846</td>\n",
              "      <td>1.82</td>\n",
              "      <td>1.6</td>\n",
              "      <td>30.7</td>\n",
              "      <td>36.791</td>\n",
              "      <td>1.7</td>\n",
              "      <td>61.49</td>\n",
              "      <td>0.571</td>\n",
              "    </tr>\n",
              "    <tr>\n",
              "      <th>80287</th>\n",
              "      <td>ZWE</td>\n",
              "      <td>Africa</td>\n",
              "      <td>Zimbabwe</td>\n",
              "      <td>08-04-2021</td>\n",
              "      <td>37052.0</td>\n",
              "      <td>68.0</td>\n",
              "      <td>1532.0</td>\n",
              "      <td>1.0</td>\n",
              "      <td>2492.914</td>\n",
              "      <td>4.575</td>\n",
              "      <td>103.075</td>\n",
              "      <td>1.10</td>\n",
              "      <td>0.0</td>\n",
              "      <td>0.0</td>\n",
              "      <td>0.0</td>\n",
              "      <td>0.000</td>\n",
              "      <td>0.0</td>\n",
              "      <td>0</td>\n",
              "      <td>0.00</td>\n",
              "      <td>14862927.0</td>\n",
              "      <td>42.729</td>\n",
              "      <td>2.822</td>\n",
              "      <td>1.882</td>\n",
              "      <td>1899.775</td>\n",
              "      <td>307.846</td>\n",
              "      <td>1.82</td>\n",
              "      <td>1.6</td>\n",
              "      <td>30.7</td>\n",
              "      <td>36.791</td>\n",
              "      <td>1.7</td>\n",
              "      <td>61.49</td>\n",
              "      <td>0.571</td>\n",
              "    </tr>\n",
              "    <tr>\n",
              "      <th>80288</th>\n",
              "      <td>ZWE</td>\n",
              "      <td>Africa</td>\n",
              "      <td>Zimbabwe</td>\n",
              "      <td>09-04-2021</td>\n",
              "      <td>37147.0</td>\n",
              "      <td>95.0</td>\n",
              "      <td>1535.0</td>\n",
              "      <td>3.0</td>\n",
              "      <td>2499.306</td>\n",
              "      <td>6.392</td>\n",
              "      <td>103.277</td>\n",
              "      <td>0.00</td>\n",
              "      <td>0.0</td>\n",
              "      <td>0.0</td>\n",
              "      <td>0.0</td>\n",
              "      <td>0.000</td>\n",
              "      <td>0.0</td>\n",
              "      <td>0</td>\n",
              "      <td>0.00</td>\n",
              "      <td>14862927.0</td>\n",
              "      <td>42.729</td>\n",
              "      <td>2.822</td>\n",
              "      <td>1.882</td>\n",
              "      <td>1899.775</td>\n",
              "      <td>307.846</td>\n",
              "      <td>1.82</td>\n",
              "      <td>1.6</td>\n",
              "      <td>30.7</td>\n",
              "      <td>36.791</td>\n",
              "      <td>1.7</td>\n",
              "      <td>61.49</td>\n",
              "      <td>0.571</td>\n",
              "    </tr>\n",
              "    <tr>\n",
              "      <th>80289</th>\n",
              "      <td>ZWE</td>\n",
              "      <td>Africa</td>\n",
              "      <td>Zimbabwe</td>\n",
              "      <td>10-04-2021</td>\n",
              "      <td>37273.0</td>\n",
              "      <td>126.0</td>\n",
              "      <td>1538.0</td>\n",
              "      <td>3.0</td>\n",
              "      <td>2507.783</td>\n",
              "      <td>8.477</td>\n",
              "      <td>103.479</td>\n",
              "      <td>0.00</td>\n",
              "      <td>0.0</td>\n",
              "      <td>0.0</td>\n",
              "      <td>0.0</td>\n",
              "      <td>0.000</td>\n",
              "      <td>0.0</td>\n",
              "      <td>0</td>\n",
              "      <td>0.00</td>\n",
              "      <td>14862927.0</td>\n",
              "      <td>42.729</td>\n",
              "      <td>2.822</td>\n",
              "      <td>1.882</td>\n",
              "      <td>1899.775</td>\n",
              "      <td>307.846</td>\n",
              "      <td>1.82</td>\n",
              "      <td>1.6</td>\n",
              "      <td>30.7</td>\n",
              "      <td>36.791</td>\n",
              "      <td>1.7</td>\n",
              "      <td>61.49</td>\n",
              "      <td>0.571</td>\n",
              "    </tr>\n",
              "  </tbody>\n",
              "</table>\n",
              "<p>80290 rows × 32 columns</p>\n",
              "</div>"
            ],
            "text/plain": [
              "      iso_code continent  ... life_expectancy human_development_index\n",
              "0          AFG      Asia  ...           64.83                   0.511\n",
              "1          AFG      Asia  ...           64.83                   0.511\n",
              "2          AFG      Asia  ...           64.83                   0.511\n",
              "3          AFG      Asia  ...           64.83                   0.511\n",
              "4          AFG      Asia  ...           64.83                   0.511\n",
              "...        ...       ...  ...             ...                     ...\n",
              "80285      ZWE    Africa  ...           61.49                   0.571\n",
              "80286      ZWE    Africa  ...           61.49                   0.571\n",
              "80287      ZWE    Africa  ...           61.49                   0.571\n",
              "80288      ZWE    Africa  ...           61.49                   0.571\n",
              "80289      ZWE    Africa  ...           61.49                   0.571\n",
              "\n",
              "[80290 rows x 32 columns]"
            ]
          },
          "metadata": {
            "tags": []
          },
          "execution_count": 10
        }
      ]
    },
    {
      "cell_type": "code",
      "metadata": {
        "colab": {
          "base_uri": "https://localhost:8080/",
          "height": 404
        },
        "id": "ea97FcD10Ai_",
        "outputId": "6492c8be-6788-42aa-a44c-0842c38072cf"
      },
      "source": [
        "df[['total_cases','total_deaths']].fillna(0)"
      ],
      "execution_count": null,
      "outputs": [
        {
          "output_type": "execute_result",
          "data": {
            "text/html": [
              "<div>\n",
              "<style scoped>\n",
              "    .dataframe tbody tr th:only-of-type {\n",
              "        vertical-align: middle;\n",
              "    }\n",
              "\n",
              "    .dataframe tbody tr th {\n",
              "        vertical-align: top;\n",
              "    }\n",
              "\n",
              "    .dataframe thead th {\n",
              "        text-align: right;\n",
              "    }\n",
              "</style>\n",
              "<table border=\"1\" class=\"dataframe\">\n",
              "  <thead>\n",
              "    <tr style=\"text-align: right;\">\n",
              "      <th></th>\n",
              "      <th>total_cases</th>\n",
              "      <th>total_deaths</th>\n",
              "    </tr>\n",
              "  </thead>\n",
              "  <tbody>\n",
              "    <tr>\n",
              "      <th>0</th>\n",
              "      <td>1.0</td>\n",
              "      <td>0.0</td>\n",
              "    </tr>\n",
              "    <tr>\n",
              "      <th>1</th>\n",
              "      <td>1.0</td>\n",
              "      <td>0.0</td>\n",
              "    </tr>\n",
              "    <tr>\n",
              "      <th>2</th>\n",
              "      <td>1.0</td>\n",
              "      <td>0.0</td>\n",
              "    </tr>\n",
              "    <tr>\n",
              "      <th>3</th>\n",
              "      <td>1.0</td>\n",
              "      <td>0.0</td>\n",
              "    </tr>\n",
              "    <tr>\n",
              "      <th>4</th>\n",
              "      <td>1.0</td>\n",
              "      <td>0.0</td>\n",
              "    </tr>\n",
              "    <tr>\n",
              "      <th>...</th>\n",
              "      <td>...</td>\n",
              "      <td>...</td>\n",
              "    </tr>\n",
              "    <tr>\n",
              "      <th>80285</th>\n",
              "      <td>36966.0</td>\n",
              "      <td>1531.0</td>\n",
              "    </tr>\n",
              "    <tr>\n",
              "      <th>80286</th>\n",
              "      <td>36984.0</td>\n",
              "      <td>1531.0</td>\n",
              "    </tr>\n",
              "    <tr>\n",
              "      <th>80287</th>\n",
              "      <td>37052.0</td>\n",
              "      <td>1532.0</td>\n",
              "    </tr>\n",
              "    <tr>\n",
              "      <th>80288</th>\n",
              "      <td>37147.0</td>\n",
              "      <td>1535.0</td>\n",
              "    </tr>\n",
              "    <tr>\n",
              "      <th>80289</th>\n",
              "      <td>37273.0</td>\n",
              "      <td>1538.0</td>\n",
              "    </tr>\n",
              "  </tbody>\n",
              "</table>\n",
              "<p>80290 rows × 2 columns</p>\n",
              "</div>"
            ],
            "text/plain": [
              "       total_cases  total_deaths\n",
              "0              1.0           0.0\n",
              "1              1.0           0.0\n",
              "2              1.0           0.0\n",
              "3              1.0           0.0\n",
              "4              1.0           0.0\n",
              "...            ...           ...\n",
              "80285      36966.0        1531.0\n",
              "80286      36984.0        1531.0\n",
              "80287      37052.0        1532.0\n",
              "80288      37147.0        1535.0\n",
              "80289      37273.0        1538.0\n",
              "\n",
              "[80290 rows x 2 columns]"
            ]
          },
          "metadata": {
            "tags": []
          },
          "execution_count": 11
        }
      ]
    },
    {
      "cell_type": "code",
      "metadata": {
        "colab": {
          "base_uri": "https://localhost:8080/"
        },
        "id": "fTZioKy53yLD",
        "outputId": "9a92d906-e49e-4a95-c480-1cab16c2238b"
      },
      "source": [
        "df.info()"
      ],
      "execution_count": null,
      "outputs": [
        {
          "output_type": "stream",
          "text": [
            "<class 'pandas.core.frame.DataFrame'>\n",
            "RangeIndex: 80290 entries, 0 to 80289\n",
            "Data columns (total 32 columns):\n",
            " #   Column                      Non-Null Count  Dtype  \n",
            "---  ------                      --------------  -----  \n",
            " 0   iso_code                    80290 non-null  object \n",
            " 1   continent                   76804 non-null  object \n",
            " 2   location                    80290 non-null  object \n",
            " 3   date                        80290 non-null  object \n",
            " 4   total_cases                 78647 non-null  float64\n",
            " 5   new_cases                   78645 non-null  float64\n",
            " 6   total_deaths                69153 non-null  float64\n",
            " 7   new_deaths                  69311 non-null  float64\n",
            " 8   total_cases_per_million     78218 non-null  float64\n",
            " 9   new_cases_per_million       78216 non-null  float64\n",
            " 10  total_deaths_per_million    68737 non-null  float64\n",
            " 11  reproduction_rate           64678 non-null  float64\n",
            " 12  Unnamed: 17                 0 non-null      float64\n",
            " 13  new_tests                   36943 non-null  float64\n",
            " 14  total_tests                 36675 non-null  float64\n",
            " 15  positive_rate               40925 non-null  float64\n",
            " 16  tests_per_case              40309 non-null  float64\n",
            " 17  tests_units                 43654 non-null  object \n",
            " 18  stringency_index            68594 non-null  float64\n",
            " 19  population                  79790 non-null  float64\n",
            " 20  population_density          74797 non-null  float64\n",
            " 21  aged_65_older               71691 non-null  float64\n",
            " 22  aged_70_older               72117 non-null  float64\n",
            " 23  gdp_per_capita              72829 non-null  float64\n",
            " 24  cardiovasc_death_rate       73421 non-null  float64\n",
            " 25  diabetes_prevalence         74410 non-null  float64\n",
            " 26  female_smokers              57528 non-null  float64\n",
            " 27  male_smokers                56672 non-null  float64\n",
            " 28  handwashing_facilities      36662 non-null  float64\n",
            " 29  hospital_beds_per_thousand  67067 non-null  float64\n",
            " 30  life_expectancy             76195 non-null  float64\n",
            " 31  human_development_index     73364 non-null  float64\n",
            "dtypes: float64(27), object(5)\n",
            "memory usage: 19.6+ MB\n"
          ],
          "name": "stdout"
        }
      ]
    },
    {
      "cell_type": "code",
      "metadata": {
        "colab": {
          "base_uri": "https://localhost:8080/"
        },
        "id": "BUSy5vM9-xsx",
        "outputId": "ae78f81c-1c5f-44eb-ac56-799fe31450fe"
      },
      "source": [
        "print(df[df['location']=='India'].index.values)  "
      ],
      "execution_count": null,
      "outputs": [
        {
          "output_type": "stream",
          "text": [
            "[33143 33144 33145 33146 33147 33148 33149 33150 33151 33152 33153 33154\n",
            " 33155 33156 33157 33158 33159 33160 33161 33162 33163 33164 33165 33166\n",
            " 33167 33168 33169 33170 33171 33172 33173 33174 33175 33176 33177 33178\n",
            " 33179 33180 33181 33182 33183 33184 33185 33186 33187 33188 33189 33190\n",
            " 33191 33192 33193 33194 33195 33196 33197 33198 33199 33200 33201 33202\n",
            " 33203 33204 33205 33206 33207 33208 33209 33210 33211 33212 33213 33214\n",
            " 33215 33216 33217 33218 33219 33220 33221 33222 33223 33224 33225 33226\n",
            " 33227 33228 33229 33230 33231 33232 33233 33234 33235 33236 33237 33238\n",
            " 33239 33240 33241 33242 33243 33244 33245 33246 33247 33248 33249 33250\n",
            " 33251 33252 33253 33254 33255 33256 33257 33258 33259 33260 33261 33262\n",
            " 33263 33264 33265 33266 33267 33268 33269 33270 33271 33272 33273 33274\n",
            " 33275 33276 33277 33278 33279 33280 33281 33282 33283 33284 33285 33286\n",
            " 33287 33288 33289 33290 33291 33292 33293 33294 33295 33296 33297 33298\n",
            " 33299 33300 33301 33302 33303 33304 33305 33306 33307 33308 33309 33310\n",
            " 33311 33312 33313 33314 33315 33316 33317 33318 33319 33320 33321 33322\n",
            " 33323 33324 33325 33326 33327 33328 33329 33330 33331 33332 33333 33334\n",
            " 33335 33336 33337 33338 33339 33340 33341 33342 33343 33344 33345 33346\n",
            " 33347 33348 33349 33350 33351 33352 33353 33354 33355 33356 33357 33358\n",
            " 33359 33360 33361 33362 33363 33364 33365 33366 33367 33368 33369 33370\n",
            " 33371 33372 33373 33374 33375 33376 33377 33378 33379 33380 33381 33382\n",
            " 33383 33384 33385 33386 33387 33388 33389 33390 33391 33392 33393 33394\n",
            " 33395 33396 33397 33398 33399 33400 33401 33402 33403 33404 33405 33406\n",
            " 33407 33408 33409 33410 33411 33412 33413 33414 33415 33416 33417 33418\n",
            " 33419 33420 33421 33422 33423 33424 33425 33426 33427 33428 33429 33430\n",
            " 33431 33432 33433 33434 33435 33436 33437 33438 33439 33440 33441 33442\n",
            " 33443 33444 33445 33446 33447 33448 33449 33450 33451 33452 33453 33454\n",
            " 33455 33456 33457 33458 33459 33460 33461 33462 33463 33464 33465 33466\n",
            " 33467 33468 33469 33470 33471 33472 33473 33474 33475 33476 33477 33478\n",
            " 33479 33480 33481 33482 33483 33484 33485 33486 33487 33488 33489 33490\n",
            " 33491 33492 33493 33494 33495 33496 33497 33498 33499 33500 33501 33502\n",
            " 33503 33504 33505 33506 33507 33508 33509 33510 33511 33512 33513 33514\n",
            " 33515 33516 33517 33518 33519 33520 33521 33522 33523 33524 33525 33526\n",
            " 33527 33528 33529 33530 33531 33532 33533 33534 33535 33536 33537 33538\n",
            " 33539 33540 33541 33542 33543 33544 33545 33546 33547 33548 33549 33550\n",
            " 33551 33552 33553 33554 33555 33556 33557 33558 33559 33560 33561 33562\n",
            " 33563 33564 33565 33566 33567 33568 33569 33570 33571 33572 33573 33574\n",
            " 33575 33576 33577 33578 33579]\n"
          ],
          "name": "stdout"
        }
      ]
    },
    {
      "cell_type": "code",
      "metadata": {
        "id": "5ojAACcp_IjC"
      },
      "source": [
        "# Hence, we have found the index range within which India is loacted.\n",
        "# We can now use this index range to plot the following data."
      ],
      "execution_count": null,
      "outputs": []
    },
    {
      "cell_type": "code",
      "metadata": {
        "colab": {
          "base_uri": "https://localhost:8080/",
          "height": 250
        },
        "id": "9Z34u6nQ4khm",
        "outputId": "ce33e9b3-4b7f-471c-f92e-1c5ef6618223"
      },
      "source": [
        "import matplotlib.pyplot as plt\n",
        "plt.figure(figsize=(30,5))\n",
        "plt.scatter(df['total_cases'][33145:33581],df['total_deaths'][33145:33581])\n",
        "plt.show()\n",
        "\n",
        "# For India - We observe that with the increase in number of cases, the number of deaths increase linearly "
      ],
      "execution_count": null,
      "outputs": [
        {
          "output_type": "display_data",
          "data": {
            "image/png": "[encoded data removed]",
            "text/plain": [
              "<Figure size 2160x360 with 1 Axes>"
            ]
          },
          "metadata": {
            "tags": [],
            "needs_background": "light"
          }
        }
      ]
    },
    {
      "cell_type": "code",
      "metadata": {
        "colab": {
          "base_uri": "https://localhost:8080/"
        },
        "id": "qnJ8-SxL_bTq",
        "outputId": "bfe17d71-0355-4b38-cb51-e778e1acd8d7"
      },
      "source": [
        "print(df[df['location']=='New Zealand'].index.values)"
      ],
      "execution_count": null,
      "outputs": [
        {
          "output_type": "stream",
          "text": [
            "[51494 51495 51496 51497 51498 51499 51500 51501 51502 51503 51504 51505\n",
            " 51506 51507 51508 51509 51510 51511 51512 51513 51514 51515 51516 51517\n",
            " 51518 51519 51520 51521 51522 51523 51524 51525 51526 51527 51528 51529\n",
            " 51530 51531 51532 51533 51534 51535 51536 51537 51538 51539 51540 51541\n",
            " 51542 51543 51544 51545 51546 51547 51548 51549 51550 51551 51552 51553\n",
            " 51554 51555 51556 51557 51558 51559 51560 51561 51562 51563 51564 51565\n",
            " 51566 51567 51568 51569 51570 51571 51572 51573 51574 51575 51576 51577\n",
            " 51578 51579 51580 51581 51582 51583 51584 51585 51586 51587 51588 51589\n",
            " 51590 51591 51592 51593 51594 51595 51596 51597 51598 51599 51600 51601\n",
            " 51602 51603 51604 51605 51606 51607 51608 51609 51610 51611 51612 51613\n",
            " 51614 51615 51616 51617 51618 51619 51620 51621 51622 51623 51624 51625\n",
            " 51626 51627 51628 51629 51630 51631 51632 51633 51634 51635 51636 51637\n",
            " 51638 51639 51640 51641 51642 51643 51644 51645 51646 51647 51648 51649\n",
            " 51650 51651 51652 51653 51654 51655 51656 51657 51658 51659 51660 51661\n",
            " 51662 51663 51664 51665 51666 51667 51668 51669 51670 51671 51672 51673\n",
            " 51674 51675 51676 51677 51678 51679 51680 51681 51682 51683 51684 51685\n",
            " 51686 51687 51688 51689 51690 51691 51692 51693 51694 51695 51696 51697\n",
            " 51698 51699 51700 51701 51702 51703 51704 51705 51706 51707 51708 51709\n",
            " 51710 51711 51712 51713 51714 51715 51716 51717 51718 51719 51720 51721\n",
            " 51722 51723 51724 51725 51726 51727 51728 51729 51730 51731 51732 51733\n",
            " 51734 51735 51736 51737 51738 51739 51740 51741 51742 51743 51744 51745\n",
            " 51746 51747 51748 51749 51750 51751 51752 51753 51754 51755 51756 51757\n",
            " 51758 51759 51760 51761 51762 51763 51764 51765 51766 51767 51768 51769\n",
            " 51770 51771 51772 51773 51774 51775 51776 51777 51778 51779 51780 51781\n",
            " 51782 51783 51784 51785 51786 51787 51788 51789 51790 51791 51792 51793\n",
            " 51794 51795 51796 51797 51798 51799 51800 51801 51802 51803 51804 51805\n",
            " 51806 51807 51808 51809 51810 51811 51812 51813 51814 51815 51816 51817\n",
            " 51818 51819 51820 51821 51822 51823 51824 51825 51826 51827 51828 51829\n",
            " 51830 51831 51832 51833 51834 51835 51836 51837 51838 51839 51840 51841\n",
            " 51842 51843 51844 51845 51846 51847 51848 51849 51850 51851 51852 51853\n",
            " 51854 51855 51856 51857 51858 51859 51860 51861 51862 51863 51864 51865\n",
            " 51866 51867 51868 51869 51870 51871 51872 51873 51874 51875 51876 51877\n",
            " 51878 51879 51880 51881 51882 51883 51884 51885 51886 51887 51888 51889\n",
            " 51890 51891 51892 51893 51894 51895 51896 51897 51898 51899 51900 51901]\n"
          ],
          "name": "stdout"
        }
      ]
    },
    {
      "cell_type": "code",
      "metadata": {
        "id": "65hKBSKt5I0K",
        "colab": {
          "base_uri": "https://localhost:8080/",
          "height": 243
        },
        "outputId": "5f2e12ef-1dad-4648-8427-99e9a39f39e0"
      },
      "source": [
        "plt.figure(figsize=(30,5))\n",
        "plt.scatter(df['total_cases'][51496:51903],df['total_deaths'][51496:51903])\n",
        "plt.show()\n",
        "\n",
        "# For New Zealand, for the first 1300 cases, the number of deaths were less than 5\n",
        "# As the cases rose between 1300 to 1500, there was a sudden rise in deaths\n",
        "# From 1500 to 1750, 1750 to 2400 and from 2400 to 2600 the number of deaths occuring were at a constant rate.\n",
        "# All figures mentioned above are approxiamate."
      ],
      "execution_count": null,
      "outputs": [
        {
          "output_type": "display_data",
          "data": {
            "image/png": "[encoded data removed]",
            "text/plain": [
              "<Figure size 2160x360 with 1 Axes>"
            ]
          },
          "metadata": {
            "tags": [],
            "needs_background": "light"
          }
        }
      ]
    },
    {
      "cell_type": "code",
      "metadata": {
        "colab": {
          "base_uri": "https://localhost:8080/"
        },
        "id": "qw6WkF2iqjDu",
        "outputId": "78ea0bc5-feaf-4d23-fd3d-fd64e33963a7"
      },
      "source": [
        "df.nunique()  # Just for information of various columns"
      ],
      "execution_count": null,
      "outputs": [
        {
          "output_type": "execute_result",
          "data": {
            "text/plain": [
              "iso_code                        214\n",
              "continent                         6\n",
              "location                        214\n",
              "date                            466\n",
              "total_cases                   41962\n",
              "new_cases                     10672\n",
              "total_deaths                  15724\n",
              "new_deaths                     2269\n",
              "total_cases_per_million       60577\n",
              "new_cases_per_million         34607\n",
              "total_deaths_per_million      37077\n",
              "reproduction_rate               369\n",
              "Unnamed: 17                       0\n",
              "new_tests                     20132\n",
              "total_tests                   35746\n",
              "positive_rate                   561\n",
              "tests_per_case                 5015\n",
              "tests_units                       4\n",
              "stringency_index                175\n",
              "population                      212\n",
              "population_density              195\n",
              "aged_65_older                   180\n",
              "aged_70_older                   178\n",
              "gdp_per_capita                  186\n",
              "cardiovasc_death_rate           186\n",
              "diabetes_prevalence             138\n",
              "female_smokers                  107\n",
              "male_smokers                    123\n",
              "handwashing_facilities           94\n",
              "hospital_beds_per_thousand       99\n",
              "life_expectancy                 191\n",
              "human_development_index         151\n",
              "dtype: int64"
            ]
          },
          "metadata": {
            "tags": []
          },
          "execution_count": 18
        }
      ]
    },
    {
      "cell_type": "code",
      "metadata": {
        "colab": {
          "base_uri": "https://localhost:8080/"
        },
        "id": "Jtg7EakWql6D",
        "outputId": "ec5d7dc1-76ca-4fb1-832c-60fef1f5c46d"
      },
      "source": [
        "df['new_cases'][33145:33581].sum()   # Total number of cases in India"
      ],
      "execution_count": null,
      "outputs": [
        {
          "output_type": "execute_result",
          "data": {
            "text/plain": [
              "13205927.0"
            ]
          },
          "metadata": {
            "tags": []
          },
          "execution_count": 19
        }
      ]
    },
    {
      "cell_type": "code",
      "metadata": {
        "colab": {
          "base_uri": "https://localhost:8080/"
        },
        "id": "8jvH9Kn-KRPt",
        "outputId": "0ebbb1ce-a0bc-47f3-cf5e-c889f785cf79"
      },
      "source": [
        "print(df['total_cases'].dtype)"
      ],
      "execution_count": null,
      "outputs": [
        {
          "output_type": "stream",
          "text": [
            "float64\n"
          ],
          "name": "stdout"
        }
      ]
    },
    {
      "cell_type": "code",
      "metadata": {
        "id": "n14KWDPASmai",
        "colab": {
          "base_uri": "https://localhost:8080/"
        },
        "outputId": "c743d919-035e-49b4-f671-5a0a5f3cbae4"
      },
      "source": [
        "col = df['total_cases']\n",
        "max_value = col.max()\n",
        "print(max_value)                  # The maximum number of cases "
      ],
      "execution_count": null,
      "outputs": [
        {
          "output_type": "stream",
          "text": [
            "41673474.0\n"
          ],
          "name": "stdout"
        }
      ]
    },
    {
      "cell_type": "code",
      "metadata": {
        "colab": {
          "base_uri": "https://localhost:8080/"
        },
        "id": "Ueovra1K5tnU",
        "outputId": "cbe3350e-c8e5-4752-e181-fdaf9d7ee6b0"
      },
      "source": [
        "index = df.new_cases.argmax()\n",
        "index         "
      ],
      "execution_count": null,
      "outputs": [
        {
          "output_type": "execute_result",
          "data": {
            "text/plain": [
              "24769"
            ]
          },
          "metadata": {
            "tags": []
          },
          "execution_count": 22
        }
      ]
    },
    {
      "cell_type": "code",
      "metadata": {
        "colab": {
          "base_uri": "https://localhost:8080/"
        },
        "id": "wkqkXyvXam2b",
        "outputId": "c67b41d9-838c-4f25-f306-4cd33bed1ac8"
      },
      "source": [
        "df.iloc[24769]   "
      ],
      "execution_count": null,
      "outputs": [
        {
          "output_type": "execute_result",
          "data": {
            "text/plain": [
              "iso_code                        OWID_EUR\n",
              "continent                            NaN\n",
              "location                          Europe\n",
              "date                          02-11-2020\n",
              "total_cases                   1.0527e+07\n",
              "new_cases                         346447\n",
              "total_deaths                      270959\n",
              "new_deaths                          2660\n",
              "total_cases_per_million          14060.7\n",
              "new_cases_per_million            462.744\n",
              "total_deaths_per_million         361.916\n",
              "reproduction_rate                    NaN\n",
              "Unnamed: 17                          NaN\n",
              "new_tests                            NaN\n",
              "total_tests                          NaN\n",
              "positive_rate                        NaN\n",
              "tests_per_case                       NaN\n",
              "tests_units                          NaN\n",
              "stringency_index                     NaN\n",
              "population                    7.4868e+08\n",
              "population_density                   NaN\n",
              "aged_65_older                        NaN\n",
              "aged_70_older                        NaN\n",
              "gdp_per_capita                       NaN\n",
              "cardiovasc_death_rate                NaN\n",
              "diabetes_prevalence                  NaN\n",
              "female_smokers                       NaN\n",
              "male_smokers                         NaN\n",
              "handwashing_facilities               NaN\n",
              "hospital_beds_per_thousand           NaN\n",
              "life_expectancy                      NaN\n",
              "human_development_index              NaN\n",
              "Name: 24769, dtype: object"
            ]
          },
          "metadata": {
            "tags": []
          },
          "execution_count": 23
        }
      ]
    },
    {
      "cell_type": "code",
      "metadata": {
        "id": "QZ4ZDht88EsE"
      },
      "source": [
        "# Therefore, the continent of Europe is the worst affected with the highest number of cases\n",
        "# We can see the same results in Tableau software"
      ],
      "execution_count": null,
      "outputs": []
    },
    {
      "cell_type": "code",
      "metadata": {
        "colab": {
          "base_uri": "https://localhost:8080/"
        },
        "id": "7tfQzAD49vts",
        "outputId": "3eef7dcd-d58a-45b1-842a-b016f94651ed"
      },
      "source": [
        "col1 = df['total_deaths']\n",
        "max_value = col1.max()\n",
        "print(max_value)                   # Maximum number of deaths"
      ],
      "execution_count": null,
      "outputs": [
        {
          "output_type": "stream",
          "text": [
            "950555.0\n"
          ],
          "name": "stdout"
        }
      ]
    },
    {
      "cell_type": "code",
      "metadata": {
        "colab": {
          "base_uri": "https://localhost:8080/"
        },
        "id": "T1BS-ysqAHhr",
        "outputId": "f1961c73-1a3a-4627-bbfb-e4cdb08ad1f2"
      },
      "source": [
        "index = df.new_deaths.argmax()\n",
        "index"
      ],
      "execution_count": null,
      "outputs": [
        {
          "output_type": "execute_result",
          "data": {
            "text/plain": [
              "24847"
            ]
          },
          "metadata": {
            "tags": []
          },
          "execution_count": 26
        }
      ]
    },
    {
      "cell_type": "code",
      "metadata": {
        "colab": {
          "base_uri": "https://localhost:8080/"
        },
        "id": "bJlNurCSAMPL",
        "outputId": "7f8a3992-0d27-4c3f-ffe9-68e493d15e7e"
      },
      "source": [
        "df.iloc[24847]   "
      ],
      "execution_count": null,
      "outputs": [
        {
          "output_type": "execute_result",
          "data": {
            "text/plain": [
              "iso_code                         OWID_EUR\n",
              "continent                             NaN\n",
              "location                           Europe\n",
              "date                           19-01-2021\n",
              "total_cases                   2.80685e+07\n",
              "new_cases                          202598\n",
              "total_deaths                       639608\n",
              "new_deaths                           7554\n",
              "total_cases_per_million           37490.6\n",
              "new_cases_per_million             270.607\n",
              "total_deaths_per_million          854.314\n",
              "reproduction_rate                     NaN\n",
              "Unnamed: 17                           NaN\n",
              "new_tests                             NaN\n",
              "total_tests                           NaN\n",
              "positive_rate                         NaN\n",
              "tests_per_case                        NaN\n",
              "tests_units                           NaN\n",
              "stringency_index                      NaN\n",
              "population                     7.4868e+08\n",
              "population_density                    NaN\n",
              "aged_65_older                         NaN\n",
              "aged_70_older                         NaN\n",
              "gdp_per_capita                        NaN\n",
              "cardiovasc_death_rate                 NaN\n",
              "diabetes_prevalence                   NaN\n",
              "female_smokers                        NaN\n",
              "male_smokers                          NaN\n",
              "handwashing_facilities                NaN\n",
              "hospital_beds_per_thousand            NaN\n",
              "life_expectancy                       NaN\n",
              "human_development_index               NaN\n",
              "Name: 24847, dtype: object"
            ]
          },
          "metadata": {
            "tags": []
          },
          "execution_count": 27
        }
      ]
    },
    {
      "cell_type": "code",
      "metadata": {
        "id": "mZvz54hrARlC"
      },
      "source": [
        "# Also, the continent of Europe has witnessed the highest number of deaths due to covid-19"
      ],
      "execution_count": null,
      "outputs": []
    },
    {
      "cell_type": "code",
      "metadata": {
        "colab": {
          "base_uri": "https://localhost:8080/",
          "height": 776
        },
        "id": "dWKn2Y5dqkez",
        "outputId": "01b8b767-ec7c-43f6-e65d-053c140216cf"
      },
      "source": [
        "df = df.rename(columns={'date':'ds','total_cases':'y'})\n",
        "df"
      ],
      "execution_count": null,
      "outputs": [
        {
          "output_type": "execute_result",
          "data": {
            "text/html": [
              "<div>\n",
              "<style scoped>\n",
              "    .dataframe tbody tr th:only-of-type {\n",
              "        vertical-align: middle;\n",
              "    }\n",
              "\n",
              "    .dataframe tbody tr th {\n",
              "        vertical-align: top;\n",
              "    }\n",
              "\n",
              "    .dataframe thead th {\n",
              "        text-align: right;\n",
              "    }\n",
              "</style>\n",
              "<table border=\"1\" class=\"dataframe\">\n",
              "  <thead>\n",
              "    <tr style=\"text-align: right;\">\n",
              "      <th></th>\n",
              "      <th>iso_code</th>\n",
              "      <th>continent</th>\n",
              "      <th>location</th>\n",
              "      <th>ds</th>\n",
              "      <th>y</th>\n",
              "      <th>new_cases</th>\n",
              "      <th>total_deaths</th>\n",
              "      <th>new_deaths</th>\n",
              "      <th>total_cases_per_million</th>\n",
              "      <th>new_cases_per_million</th>\n",
              "      <th>total_deaths_per_million</th>\n",
              "      <th>reproduction_rate</th>\n",
              "      <th>Unnamed: 17</th>\n",
              "      <th>new_tests</th>\n",
              "      <th>total_tests</th>\n",
              "      <th>positive_rate</th>\n",
              "      <th>tests_per_case</th>\n",
              "      <th>tests_units</th>\n",
              "      <th>stringency_index</th>\n",
              "      <th>population</th>\n",
              "      <th>population_density</th>\n",
              "      <th>aged_65_older</th>\n",
              "      <th>aged_70_older</th>\n",
              "      <th>gdp_per_capita</th>\n",
              "      <th>cardiovasc_death_rate</th>\n",
              "      <th>diabetes_prevalence</th>\n",
              "      <th>female_smokers</th>\n",
              "      <th>male_smokers</th>\n",
              "      <th>handwashing_facilities</th>\n",
              "      <th>hospital_beds_per_thousand</th>\n",
              "      <th>life_expectancy</th>\n",
              "      <th>human_development_index</th>\n",
              "    </tr>\n",
              "  </thead>\n",
              "  <tbody>\n",
              "    <tr>\n",
              "      <th>0</th>\n",
              "      <td>AFG</td>\n",
              "      <td>Asia</td>\n",
              "      <td>Afghanistan</td>\n",
              "      <td>24-02-2020</td>\n",
              "      <td>1.0</td>\n",
              "      <td>1.0</td>\n",
              "      <td>NaN</td>\n",
              "      <td>NaN</td>\n",
              "      <td>0.026</td>\n",
              "      <td>0.026</td>\n",
              "      <td>NaN</td>\n",
              "      <td>NaN</td>\n",
              "      <td>NaN</td>\n",
              "      <td>NaN</td>\n",
              "      <td>NaN</td>\n",
              "      <td>NaN</td>\n",
              "      <td>NaN</td>\n",
              "      <td>NaN</td>\n",
              "      <td>8.33</td>\n",
              "      <td>38928341.0</td>\n",
              "      <td>54.422</td>\n",
              "      <td>2.581</td>\n",
              "      <td>1.337</td>\n",
              "      <td>1803.987</td>\n",
              "      <td>597.029</td>\n",
              "      <td>9.59</td>\n",
              "      <td>NaN</td>\n",
              "      <td>NaN</td>\n",
              "      <td>37.746</td>\n",
              "      <td>0.5</td>\n",
              "      <td>64.83</td>\n",
              "      <td>0.511</td>\n",
              "    </tr>\n",
              "    <tr>\n",
              "      <th>1</th>\n",
              "      <td>AFG</td>\n",
              "      <td>Asia</td>\n",
              "      <td>Afghanistan</td>\n",
              "      <td>25-02-2020</td>\n",
              "      <td>1.0</td>\n",
              "      <td>0.0</td>\n",
              "      <td>NaN</td>\n",
              "      <td>NaN</td>\n",
              "      <td>0.026</td>\n",
              "      <td>0.000</td>\n",
              "      <td>NaN</td>\n",
              "      <td>NaN</td>\n",
              "      <td>NaN</td>\n",
              "      <td>NaN</td>\n",
              "      <td>NaN</td>\n",
              "      <td>NaN</td>\n",
              "      <td>NaN</td>\n",
              "      <td>NaN</td>\n",
              "      <td>8.33</td>\n",
              "      <td>38928341.0</td>\n",
              "      <td>54.422</td>\n",
              "      <td>2.581</td>\n",
              "      <td>1.337</td>\n",
              "      <td>1803.987</td>\n",
              "      <td>597.029</td>\n",
              "      <td>9.59</td>\n",
              "      <td>NaN</td>\n",
              "      <td>NaN</td>\n",
              "      <td>37.746</td>\n",
              "      <td>0.5</td>\n",
              "      <td>64.83</td>\n",
              "      <td>0.511</td>\n",
              "    </tr>\n",
              "    <tr>\n",
              "      <th>2</th>\n",
              "      <td>AFG</td>\n",
              "      <td>Asia</td>\n",
              "      <td>Afghanistan</td>\n",
              "      <td>26-02-2020</td>\n",
              "      <td>1.0</td>\n",
              "      <td>0.0</td>\n",
              "      <td>NaN</td>\n",
              "      <td>NaN</td>\n",
              "      <td>0.026</td>\n",
              "      <td>0.000</td>\n",
              "      <td>NaN</td>\n",
              "      <td>NaN</td>\n",
              "      <td>NaN</td>\n",
              "      <td>NaN</td>\n",
              "      <td>NaN</td>\n",
              "      <td>NaN</td>\n",
              "      <td>NaN</td>\n",
              "      <td>NaN</td>\n",
              "      <td>8.33</td>\n",
              "      <td>38928341.0</td>\n",
              "      <td>54.422</td>\n",
              "      <td>2.581</td>\n",
              "      <td>1.337</td>\n",
              "      <td>1803.987</td>\n",
              "      <td>597.029</td>\n",
              "      <td>9.59</td>\n",
              "      <td>NaN</td>\n",
              "      <td>NaN</td>\n",
              "      <td>37.746</td>\n",
              "      <td>0.5</td>\n",
              "      <td>64.83</td>\n",
              "      <td>0.511</td>\n",
              "    </tr>\n",
              "    <tr>\n",
              "      <th>3</th>\n",
              "      <td>AFG</td>\n",
              "      <td>Asia</td>\n",
              "      <td>Afghanistan</td>\n",
              "      <td>27-02-2020</td>\n",
              "      <td>1.0</td>\n",
              "      <td>0.0</td>\n",
              "      <td>NaN</td>\n",
              "      <td>NaN</td>\n",
              "      <td>0.026</td>\n",
              "      <td>0.000</td>\n",
              "      <td>NaN</td>\n",
              "      <td>NaN</td>\n",
              "      <td>NaN</td>\n",
              "      <td>NaN</td>\n",
              "      <td>NaN</td>\n",
              "      <td>NaN</td>\n",
              "      <td>NaN</td>\n",
              "      <td>NaN</td>\n",
              "      <td>8.33</td>\n",
              "      <td>38928341.0</td>\n",
              "      <td>54.422</td>\n",
              "      <td>2.581</td>\n",
              "      <td>1.337</td>\n",
              "      <td>1803.987</td>\n",
              "      <td>597.029</td>\n",
              "      <td>9.59</td>\n",
              "      <td>NaN</td>\n",
              "      <td>NaN</td>\n",
              "      <td>37.746</td>\n",
              "      <td>0.5</td>\n",
              "      <td>64.83</td>\n",
              "      <td>0.511</td>\n",
              "    </tr>\n",
              "    <tr>\n",
              "      <th>4</th>\n",
              "      <td>AFG</td>\n",
              "      <td>Asia</td>\n",
              "      <td>Afghanistan</td>\n",
              "      <td>28-02-2020</td>\n",
              "      <td>1.0</td>\n",
              "      <td>0.0</td>\n",
              "      <td>NaN</td>\n",
              "      <td>NaN</td>\n",
              "      <td>0.026</td>\n",
              "      <td>0.000</td>\n",
              "      <td>NaN</td>\n",
              "      <td>NaN</td>\n",
              "      <td>NaN</td>\n",
              "      <td>NaN</td>\n",
              "      <td>NaN</td>\n",
              "      <td>NaN</td>\n",
              "      <td>NaN</td>\n",
              "      <td>NaN</td>\n",
              "      <td>8.33</td>\n",
              "      <td>38928341.0</td>\n",
              "      <td>54.422</td>\n",
              "      <td>2.581</td>\n",
              "      <td>1.337</td>\n",
              "      <td>1803.987</td>\n",
              "      <td>597.029</td>\n",
              "      <td>9.59</td>\n",
              "      <td>NaN</td>\n",
              "      <td>NaN</td>\n",
              "      <td>37.746</td>\n",
              "      <td>0.5</td>\n",
              "      <td>64.83</td>\n",
              "      <td>0.511</td>\n",
              "    </tr>\n",
              "    <tr>\n",
              "      <th>...</th>\n",
              "      <td>...</td>\n",
              "      <td>...</td>\n",
              "      <td>...</td>\n",
              "      <td>...</td>\n",
              "      <td>...</td>\n",
              "      <td>...</td>\n",
              "      <td>...</td>\n",
              "      <td>...</td>\n",
              "      <td>...</td>\n",
              "      <td>...</td>\n",
              "      <td>...</td>\n",
              "      <td>...</td>\n",
              "      <td>...</td>\n",
              "      <td>...</td>\n",
              "      <td>...</td>\n",
              "      <td>...</td>\n",
              "      <td>...</td>\n",
              "      <td>...</td>\n",
              "      <td>...</td>\n",
              "      <td>...</td>\n",
              "      <td>...</td>\n",
              "      <td>...</td>\n",
              "      <td>...</td>\n",
              "      <td>...</td>\n",
              "      <td>...</td>\n",
              "      <td>...</td>\n",
              "      <td>...</td>\n",
              "      <td>...</td>\n",
              "      <td>...</td>\n",
              "      <td>...</td>\n",
              "      <td>...</td>\n",
              "      <td>...</td>\n",
              "    </tr>\n",
              "    <tr>\n",
              "      <th>80285</th>\n",
              "      <td>ZWE</td>\n",
              "      <td>Africa</td>\n",
              "      <td>Zimbabwe</td>\n",
              "      <td>06-04-2021</td>\n",
              "      <td>36966.0</td>\n",
              "      <td>32.0</td>\n",
              "      <td>1531.0</td>\n",
              "      <td>6.0</td>\n",
              "      <td>2487.128</td>\n",
              "      <td>2.153</td>\n",
              "      <td>103.008</td>\n",
              "      <td>1.06</td>\n",
              "      <td>NaN</td>\n",
              "      <td>1604.0</td>\n",
              "      <td>445963.0</td>\n",
              "      <td>0.013</td>\n",
              "      <td>79.6</td>\n",
              "      <td>tests performed</td>\n",
              "      <td>NaN</td>\n",
              "      <td>14862927.0</td>\n",
              "      <td>42.729</td>\n",
              "      <td>2.822</td>\n",
              "      <td>1.882</td>\n",
              "      <td>1899.775</td>\n",
              "      <td>307.846</td>\n",
              "      <td>1.82</td>\n",
              "      <td>1.6</td>\n",
              "      <td>30.7</td>\n",
              "      <td>36.791</td>\n",
              "      <td>1.7</td>\n",
              "      <td>61.49</td>\n",
              "      <td>0.571</td>\n",
              "    </tr>\n",
              "    <tr>\n",
              "      <th>80286</th>\n",
              "      <td>ZWE</td>\n",
              "      <td>Africa</td>\n",
              "      <td>Zimbabwe</td>\n",
              "      <td>07-04-2021</td>\n",
              "      <td>36984.0</td>\n",
              "      <td>18.0</td>\n",
              "      <td>1531.0</td>\n",
              "      <td>0.0</td>\n",
              "      <td>2488.339</td>\n",
              "      <td>1.211</td>\n",
              "      <td>103.008</td>\n",
              "      <td>1.08</td>\n",
              "      <td>NaN</td>\n",
              "      <td>3301.0</td>\n",
              "      <td>449264.0</td>\n",
              "      <td>0.009</td>\n",
              "      <td>117.4</td>\n",
              "      <td>tests performed</td>\n",
              "      <td>NaN</td>\n",
              "      <td>14862927.0</td>\n",
              "      <td>42.729</td>\n",
              "      <td>2.822</td>\n",
              "      <td>1.882</td>\n",
              "      <td>1899.775</td>\n",
              "      <td>307.846</td>\n",
              "      <td>1.82</td>\n",
              "      <td>1.6</td>\n",
              "      <td>30.7</td>\n",
              "      <td>36.791</td>\n",
              "      <td>1.7</td>\n",
              "      <td>61.49</td>\n",
              "      <td>0.571</td>\n",
              "    </tr>\n",
              "    <tr>\n",
              "      <th>80287</th>\n",
              "      <td>ZWE</td>\n",
              "      <td>Africa</td>\n",
              "      <td>Zimbabwe</td>\n",
              "      <td>08-04-2021</td>\n",
              "      <td>37052.0</td>\n",
              "      <td>68.0</td>\n",
              "      <td>1532.0</td>\n",
              "      <td>1.0</td>\n",
              "      <td>2492.914</td>\n",
              "      <td>4.575</td>\n",
              "      <td>103.075</td>\n",
              "      <td>1.10</td>\n",
              "      <td>NaN</td>\n",
              "      <td>NaN</td>\n",
              "      <td>NaN</td>\n",
              "      <td>NaN</td>\n",
              "      <td>NaN</td>\n",
              "      <td>NaN</td>\n",
              "      <td>NaN</td>\n",
              "      <td>14862927.0</td>\n",
              "      <td>42.729</td>\n",
              "      <td>2.822</td>\n",
              "      <td>1.882</td>\n",
              "      <td>1899.775</td>\n",
              "      <td>307.846</td>\n",
              "      <td>1.82</td>\n",
              "      <td>1.6</td>\n",
              "      <td>30.7</td>\n",
              "      <td>36.791</td>\n",
              "      <td>1.7</td>\n",
              "      <td>61.49</td>\n",
              "      <td>0.571</td>\n",
              "    </tr>\n",
              "    <tr>\n",
              "      <th>80288</th>\n",
              "      <td>ZWE</td>\n",
              "      <td>Africa</td>\n",
              "      <td>Zimbabwe</td>\n",
              "      <td>09-04-2021</td>\n",
              "      <td>37147.0</td>\n",
              "      <td>95.0</td>\n",
              "      <td>1535.0</td>\n",
              "      <td>3.0</td>\n",
              "      <td>2499.306</td>\n",
              "      <td>6.392</td>\n",
              "      <td>103.277</td>\n",
              "      <td>NaN</td>\n",
              "      <td>NaN</td>\n",
              "      <td>NaN</td>\n",
              "      <td>NaN</td>\n",
              "      <td>NaN</td>\n",
              "      <td>NaN</td>\n",
              "      <td>NaN</td>\n",
              "      <td>NaN</td>\n",
              "      <td>14862927.0</td>\n",
              "      <td>42.729</td>\n",
              "      <td>2.822</td>\n",
              "      <td>1.882</td>\n",
              "      <td>1899.775</td>\n",
              "      <td>307.846</td>\n",
              "      <td>1.82</td>\n",
              "      <td>1.6</td>\n",
              "      <td>30.7</td>\n",
              "      <td>36.791</td>\n",
              "      <td>1.7</td>\n",
              "      <td>61.49</td>\n",
              "      <td>0.571</td>\n",
              "    </tr>\n",
              "    <tr>\n",
              "      <th>80289</th>\n",
              "      <td>ZWE</td>\n",
              "      <td>Africa</td>\n",
              "      <td>Zimbabwe</td>\n",
              "      <td>10-04-2021</td>\n",
              "      <td>37273.0</td>\n",
              "      <td>126.0</td>\n",
              "      <td>1538.0</td>\n",
              "      <td>3.0</td>\n",
              "      <td>2507.783</td>\n",
              "      <td>8.477</td>\n",
              "      <td>103.479</td>\n",
              "      <td>NaN</td>\n",
              "      <td>NaN</td>\n",
              "      <td>NaN</td>\n",
              "      <td>NaN</td>\n",
              "      <td>NaN</td>\n",
              "      <td>NaN</td>\n",
              "      <td>NaN</td>\n",
              "      <td>NaN</td>\n",
              "      <td>14862927.0</td>\n",
              "      <td>42.729</td>\n",
              "      <td>2.822</td>\n",
              "      <td>1.882</td>\n",
              "      <td>1899.775</td>\n",
              "      <td>307.846</td>\n",
              "      <td>1.82</td>\n",
              "      <td>1.6</td>\n",
              "      <td>30.7</td>\n",
              "      <td>36.791</td>\n",
              "      <td>1.7</td>\n",
              "      <td>61.49</td>\n",
              "      <td>0.571</td>\n",
              "    </tr>\n",
              "  </tbody>\n",
              "</table>\n",
              "<p>80290 rows × 32 columns</p>\n",
              "</div>"
            ],
            "text/plain": [
              "      iso_code continent  ... life_expectancy human_development_index\n",
              "0          AFG      Asia  ...           64.83                   0.511\n",
              "1          AFG      Asia  ...           64.83                   0.511\n",
              "2          AFG      Asia  ...           64.83                   0.511\n",
              "3          AFG      Asia  ...           64.83                   0.511\n",
              "4          AFG      Asia  ...           64.83                   0.511\n",
              "...        ...       ...  ...             ...                     ...\n",
              "80285      ZWE    Africa  ...           61.49                   0.571\n",
              "80286      ZWE    Africa  ...           61.49                   0.571\n",
              "80287      ZWE    Africa  ...           61.49                   0.571\n",
              "80288      ZWE    Africa  ...           61.49                   0.571\n",
              "80289      ZWE    Africa  ...           61.49                   0.571\n",
              "\n",
              "[80290 rows x 32 columns]"
            ]
          },
          "metadata": {
            "tags": []
          },
          "execution_count": 29
        }
      ]
    },
    {
      "cell_type": "code",
      "metadata": {
        "colab": {
          "base_uri": "https://localhost:8080/",
          "height": 404
        },
        "id": "VBT8nGqQrgpm",
        "outputId": "8b281db0-bb54-4aba-c4d5-af71f084f43c"
      },
      "source": [
        "df_new = df[['ds','y']]\n",
        "df_new[33145:33581]"
      ],
      "execution_count": null,
      "outputs": [
        {
          "output_type": "execute_result",
          "data": {
            "text/html": [
              "<div>\n",
              "<style scoped>\n",
              "    .dataframe tbody tr th:only-of-type {\n",
              "        vertical-align: middle;\n",
              "    }\n",
              "\n",
              "    .dataframe tbody tr th {\n",
              "        vertical-align: top;\n",
              "    }\n",
              "\n",
              "    .dataframe thead th {\n",
              "        text-align: right;\n",
              "    }\n",
              "</style>\n",
              "<table border=\"1\" class=\"dataframe\">\n",
              "  <thead>\n",
              "    <tr style=\"text-align: right;\">\n",
              "      <th></th>\n",
              "      <th>ds</th>\n",
              "      <th>y</th>\n",
              "    </tr>\n",
              "  </thead>\n",
              "  <tbody>\n",
              "    <tr>\n",
              "      <th>33145</th>\n",
              "      <td>01-02-2020</td>\n",
              "      <td>1.0</td>\n",
              "    </tr>\n",
              "    <tr>\n",
              "      <th>33146</th>\n",
              "      <td>02-02-2020</td>\n",
              "      <td>2.0</td>\n",
              "    </tr>\n",
              "    <tr>\n",
              "      <th>33147</th>\n",
              "      <td>03-02-2020</td>\n",
              "      <td>3.0</td>\n",
              "    </tr>\n",
              "    <tr>\n",
              "      <th>33148</th>\n",
              "      <td>04-02-2020</td>\n",
              "      <td>3.0</td>\n",
              "    </tr>\n",
              "    <tr>\n",
              "      <th>33149</th>\n",
              "      <td>05-02-2020</td>\n",
              "      <td>3.0</td>\n",
              "    </tr>\n",
              "    <tr>\n",
              "      <th>...</th>\n",
              "      <td>...</td>\n",
              "      <td>...</td>\n",
              "    </tr>\n",
              "    <tr>\n",
              "      <th>33576</th>\n",
              "      <td>07-04-2021</td>\n",
              "      <td>12928574.0</td>\n",
              "    </tr>\n",
              "    <tr>\n",
              "      <th>33577</th>\n",
              "      <td>08-04-2021</td>\n",
              "      <td>13060542.0</td>\n",
              "    </tr>\n",
              "    <tr>\n",
              "      <th>33578</th>\n",
              "      <td>09-04-2021</td>\n",
              "      <td>13205926.0</td>\n",
              "    </tr>\n",
              "    <tr>\n",
              "      <th>33579</th>\n",
              "      <td>10-04-2021</td>\n",
              "      <td>13205926.0</td>\n",
              "    </tr>\n",
              "    <tr>\n",
              "      <th>33580</th>\n",
              "      <td>02-03-2020</td>\n",
              "      <td>2.0</td>\n",
              "    </tr>\n",
              "  </tbody>\n",
              "</table>\n",
              "<p>436 rows × 2 columns</p>\n",
              "</div>"
            ],
            "text/plain": [
              "               ds           y\n",
              "33145  01-02-2020         1.0\n",
              "33146  02-02-2020         2.0\n",
              "33147  03-02-2020         3.0\n",
              "33148  04-02-2020         3.0\n",
              "33149  05-02-2020         3.0\n",
              "...           ...         ...\n",
              "33576  07-04-2021  12928574.0\n",
              "33577  08-04-2021  13060542.0\n",
              "33578  09-04-2021  13205926.0\n",
              "33579  10-04-2021  13205926.0\n",
              "33580  02-03-2020         2.0\n",
              "\n",
              "[436 rows x 2 columns]"
            ]
          },
          "metadata": {
            "tags": []
          },
          "execution_count": 30
        }
      ]
    },
    {
      "cell_type": "code",
      "metadata": {
        "colab": {
          "base_uri": "https://localhost:8080/",
          "height": 251
        },
        "id": "Zkwoc2GAsG0G",
        "outputId": "1b20bf9c-f19d-4a85-de5d-1a9eeb0627ae"
      },
      "source": [
        "import matplotlib.pyplot as plt\n",
        "plt.figure(figsize=(30,5))\n",
        "plt.scatter(df_new['ds'][33145:33484],df_new['y'][33145:33484])\n",
        "plt.show()\n",
        "\n",
        "# This trend shows the increasing number of cases per day in India\n",
        "# The vertical dots represent that days in between each month, the number of cases increased drastically "
      ],
      "execution_count": null,
      "outputs": [
        {
          "output_type": "display_data",
          "data": {
            "image/png": "[encoded data removed]",
            "text/plain": [
              "<Figure size 2160x360 with 1 Axes>"
            ]
          },
          "metadata": {
            "tags": [],
            "needs_background": "light"
          }
        }
      ]
    },
    {
      "cell_type": "code",
      "metadata": {
        "id": "s6IynbajAf0o"
      },
      "source": [
        "# FORECASTING\n",
        "\n",
        "from fbprophet import Prophet"
      ],
      "execution_count": null,
      "outputs": []
    },
    {
      "cell_type": "code",
      "metadata": {
        "id": "APx5bx_BILv1",
        "colab": {
          "base_uri": "https://localhost:8080/"
        },
        "outputId": "6524c21e-6b4b-4130-e978-9562f1bdaae9"
      },
      "source": [
        "model = Prophet(changepoint_prior_scale=1)\n",
        "model.fit(df_new[33145:33581])\n",
        "forecast = model.make_future_dataframe(periods=50,freq='D')\n",
        "forecast = model.predict(forecast)"
      ],
      "execution_count": null,
      "outputs": [
        {
          "output_type": "stream",
          "text": [
            "INFO:numexpr.utils:NumExpr defaulting to 2 threads.\n",
            "INFO:fbprophet:Disabling yearly seasonality. Run prophet with yearly_seasonality=True to override this.\n",
            "INFO:fbprophet:Disabling daily seasonality. Run prophet with daily_seasonality=True to override this.\n"
          ],
          "name": "stderr"
        }
      ]
    },
    {
      "cell_type": "code",
      "metadata": {
        "colab": {
          "base_uri": "https://localhost:8080/",
          "height": 196
        },
        "id": "eTX-ZAlYsouN",
        "outputId": "c70bfb88-1eac-4690-80d2-cb6e64938d7b"
      },
      "source": [
        "forecast[['ds','yhat','yhat_lower','yhat_upper']].head()"
      ],
      "execution_count": null,
      "outputs": [
        {
          "output_type": "execute_result",
          "data": {
            "text/html": [
              "<div>\n",
              "<style scoped>\n",
              "    .dataframe tbody tr th:only-of-type {\n",
              "        vertical-align: middle;\n",
              "    }\n",
              "\n",
              "    .dataframe tbody tr th {\n",
              "        vertical-align: top;\n",
              "    }\n",
              "\n",
              "    .dataframe thead th {\n",
              "        text-align: right;\n",
              "    }\n",
              "</style>\n",
              "<table border=\"1\" class=\"dataframe\">\n",
              "  <thead>\n",
              "    <tr style=\"text-align: right;\">\n",
              "      <th></th>\n",
              "      <th>ds</th>\n",
              "      <th>yhat</th>\n",
              "      <th>yhat_lower</th>\n",
              "      <th>yhat_upper</th>\n",
              "    </tr>\n",
              "  </thead>\n",
              "  <tbody>\n",
              "    <tr>\n",
              "      <th>0</th>\n",
              "      <td>2020-01-02</td>\n",
              "      <td>1.892298e+06</td>\n",
              "      <td>-1.430485e+06</td>\n",
              "      <td>4.838633e+06</td>\n",
              "    </tr>\n",
              "    <tr>\n",
              "      <th>1</th>\n",
              "      <td>2020-01-03</td>\n",
              "      <td>1.909354e+06</td>\n",
              "      <td>-1.330824e+06</td>\n",
              "      <td>5.046562e+06</td>\n",
              "    </tr>\n",
              "    <tr>\n",
              "      <th>2</th>\n",
              "      <td>2020-01-04</td>\n",
              "      <td>2.023891e+06</td>\n",
              "      <td>-1.123913e+06</td>\n",
              "      <td>5.277538e+06</td>\n",
              "    </tr>\n",
              "    <tr>\n",
              "      <th>3</th>\n",
              "      <td>2020-01-05</td>\n",
              "      <td>2.135885e+06</td>\n",
              "      <td>-1.053073e+06</td>\n",
              "      <td>5.300541e+06</td>\n",
              "    </tr>\n",
              "    <tr>\n",
              "      <th>4</th>\n",
              "      <td>2020-01-06</td>\n",
              "      <td>1.797520e+06</td>\n",
              "      <td>-1.352087e+06</td>\n",
              "      <td>4.962470e+06</td>\n",
              "    </tr>\n",
              "  </tbody>\n",
              "</table>\n",
              "</div>"
            ],
            "text/plain": [
              "          ds          yhat    yhat_lower    yhat_upper\n",
              "0 2020-01-02  1.892298e+06 -1.430485e+06  4.838633e+06\n",
              "1 2020-01-03  1.909354e+06 -1.330824e+06  5.046562e+06\n",
              "2 2020-01-04  2.023891e+06 -1.123913e+06  5.277538e+06\n",
              "3 2020-01-05  2.135885e+06 -1.053073e+06  5.300541e+06\n",
              "4 2020-01-06  1.797520e+06 -1.352087e+06  4.962470e+06"
            ]
          },
          "metadata": {
            "tags": []
          },
          "execution_count": 37
        }
      ]
    },
    {
      "cell_type": "code",
      "metadata": {
        "colab": {
          "base_uri": "https://localhost:8080/",
          "height": 330
        },
        "id": "sTZTHsWDtrCg",
        "outputId": "a7ed5b24-7956-4e43-c1e7-5ac7ded97218"
      },
      "source": [
        "model.plot(forecast,figsize=(20,5));"
      ],
      "execution_count": null,
      "outputs": [
        {
          "output_type": "display_data",
          "data": {
            "image/png": "[encoded data removed]",
            "text/plain": [
              "<Figure size 1440x360 with 1 Axes>"
            ]
          },
          "metadata": {
            "tags": []
          }
        }
      ]
    },
    {
      "cell_type": "code",
      "metadata": {
        "id": "bB0RoE1Et1Gq"
      },
      "source": [
        "# The following forecasting data shows stability for the next few months with the number of cases being on the higher side consistently"
      ],
      "execution_count": null,
      "outputs": []
    }
  ]
}